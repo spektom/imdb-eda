{
 "cells": [
  {
   "cell_type": "markdown",
   "metadata": {},
   "source": [
    "# IMDb Exploratory Data Analysis Example\n",
    "\n",
    "This notebook is playground for messing around with the [IMDB dataset](https://www.imdb.com/interfaces/)\n",
    "\n",
    "## Setting Up\n",
    "\n",
    "First, let's import all the required Python modules, and configure some CSS styles:"
   ]
  },
  {
   "cell_type": "code",
   "execution_count": 151,
   "metadata": {},
   "outputs": [],
   "source": [
    "import pandas as pd\n",
    "import pyvis as pv"
   ]
  },
  {
   "cell_type": "code",
   "execution_count": 188,
   "metadata": {},
   "outputs": [
    {
     "data": {
      "text/html": [
       "<style>\n",
       "  table {margin-left: 0 !important}\n",
       "  iframe {width: 100% !important}\n",
       "</style>"
      ],
      "text/plain": [
       "<IPython.core.display.HTML object>"
      ]
     },
     "metadata": {},
     "output_type": "display_data"
    }
   ],
   "source": [
    "%%html\n",
    "<style>\n",
    "  table {margin-left: 0 !important}\n",
    "  iframe {width: 100% !important}\n",
    "</style>"
   ]
  },
  {
   "cell_type": "markdown",
   "metadata": {},
   "source": [
    "## Loading IMDb Dataset\n",
    "\n",
    "Each dataset is contained in a gzipped, tab-separated-values (TSV) formatted file in the UTF-8 character set. The first line in each file contains headers that describe what is in each column. A ‘\\N’ is used to denote that a particular field is missing or null for that title/name. The available datasets are as follows: \n",
    "\n",
    "### title.akas.tsv.gz\n",
    "\n",
    "Contains the following information for titles:\n",
    "\n",
    "| Name | Type | Description |\n",
    "| ---- | ---- | ----------- |\n",
    "|titleId | string | a tconst, an alphanumeric unique identifier of the title|\n",
    "|ordering | integer | a number to uniquely identify rows for a given titleId|\n",
    "|title | string | the localized title|\n",
    "|region | string | the region for this version of the title|\n",
    "|language | string | the language of the title|\n",
    "|types | array | Enumerated set of attributes for this alternative title. One or more of the following: \"alternative\", \"dvd\", \"festival\", \"tv\", \"video\", \"working\", \"original\", \"imdbDisplay\". New values may be added in the future without warning|\n",
    "|attributes | array | Additional terms to describe this alternative title, not enumerated|\n",
    "|isOriginalTitle | boolean | 0: not original title; 1: original title|"
   ]
  },
  {
   "cell_type": "code",
   "execution_count": 34,
   "metadata": {},
   "outputs": [],
   "source": [
    "title_akas = pd.read_csv('data/title.akas.tsv.gz', sep='\\t', na_values='\\\\N')"
   ]
  },
  {
   "cell_type": "markdown",
   "metadata": {},
   "source": [
    "### title.basics.tsv.gz\n",
    "\n",
    "Contains the following information for titles:\n",
    "\n",
    "| Name | Type | Description |\n",
    "|------|------|-------------|\n",
    "|tconst | string | alphanumeric unique identifier of the title|\n",
    "|titleType | string | the type/format of the title (e.g. movie, short, tvseries, tvepisode, video, etc)|\n",
    "|primaryTitle | string | the more popular title / the title used by the filmmakers on promotional materials at the point of release|\n",
    "|originalTitle | string | original title, in the original language|\n",
    "|isAdult | boolean | 0: non-adult title; 1: adult title|\n",
    "|startYear | string | YYYY - represents the release year of a title. In the case of TV Series, it is the series start year|\n",
    "|endYear | string | YYYY - TV Series end year. ‘\\N’ for all other title types|\n",
    "|runtimeMinutes | int | primary runtime of the title, in minutes|\n",
    "|genres | string array | includes up to three genres associated with the title|\n"
   ]
  },
  {
   "cell_type": "code",
   "execution_count": 71,
   "metadata": {},
   "outputs": [],
   "source": [
    "title_basics = pd.read_csv(\n",
    "    'data/title.basics.tsv.gz', sep='\\t', na_values='\\\\N', low_memory=False).set_index('tconst')"
   ]
  },
  {
   "cell_type": "markdown",
   "metadata": {},
   "source": [
    "### title.crew.tsv.gz\n",
    "\n",
    "Contains the director and writer information for all the titles in IMDb. Fields include:\n",
    "\n",
    "| Name | Type | Description |\n",
    "|------|------|-------------|\n",
    "|tconst | string | alphanumeric unique identifier of the title|\n",
    "|directors | array of nconsts | director(s) of the given title|\n",
    "|writers | array of nconsts | writer(s) of the given title|"
   ]
  },
  {
   "cell_type": "code",
   "execution_count": 40,
   "metadata": {},
   "outputs": [],
   "source": [
    "title_crew = pd.read_csv('data/title.crew.tsv.gz', sep='\\t', na_values='\\\\N')"
   ]
  },
  {
   "cell_type": "markdown",
   "metadata": {},
   "source": [
    "### title.episode.tsv.gz\n",
    "\n",
    "Contains the tv episode information. Fields include:\n",
    "\n",
    "| Name | Type | Description |\n",
    "|------|------|-------------|\n",
    "|tconst | string | alphanumeric identifier of episode|\n",
    "|parentTconst | string | alphanumeric identifier of the parent TV Series|\n",
    "|seasonNumber | integer | season number the episode belongs to|\n",
    "|episodeNumber | integer | episode number of the tconst in the TV series|"
   ]
  },
  {
   "cell_type": "code",
   "execution_count": 39,
   "metadata": {},
   "outputs": [],
   "source": [
    "title_episode = pd.read_csv('data/title.episode.tsv.gz', sep='\\t', na_values='\\\\N')"
   ]
  },
  {
   "cell_type": "markdown",
   "metadata": {},
   "source": [
    "### title.principals.tsv.gz\n",
    "\n",
    "Contains the principal cast/crew for titles:\n",
    "\n",
    "| Name | Type | Description |\n",
    "|------|------|-------------|\n",
    "|tconst |string | alphanumeric unique identifier of the title|\n",
    "|ordering | integer | a number to uniquely identify rows for a given titleId|\n",
    "| nconst | string | alphanumeric unique identifier of the name/person |\n",
    "| category | string | person's role: actor, producer, director, etc. |\n",
    "|job|string|person's main job|\n",
    "|characters|list|characters a person has played|"
   ]
  },
  {
   "cell_type": "code",
   "execution_count": 106,
   "metadata": {},
   "outputs": [],
   "source": [
    "title_principals = pd.read_csv('data/title.principals.tsv.gz', sep='\\t', na_values='\\\\N')"
   ]
  },
  {
   "cell_type": "markdown",
   "metadata": {},
   "source": [
    "### title.ratings.tsv.gz\n",
    "\n",
    "Contains the IMDb rating and votes information for titles:\n",
    "\n",
    "| Name | Type | Description |\n",
    "|------|------|-------------|\n",
    "|tconst | string | alphanumeric unique identifier of the title|\n",
    "|averageRating | double | weighted average of all the individual user ratings|\n",
    "|numVotes | int | number of votes the title has received|"
   ]
  },
  {
   "cell_type": "code",
   "execution_count": 72,
   "metadata": {},
   "outputs": [],
   "source": [
    "title_ratings = pd.read_csv('data/title.ratings.tsv.gz', sep='\\t', na_values='\\\\N').set_index('tconst')"
   ]
  },
  {
   "cell_type": "markdown",
   "metadata": {},
   "source": [
    "### name.basics.tsv.gz\n",
    "\n",
    "Contains the following information for names:\n",
    "\n",
    "| Name | Type | Description |\n",
    "|------|------|-------------|\n",
    "| nconst | string | alphanumeric unique identifier of the name/person |\n",
    "| primaryName | string | name by which the person is most often credited |\n",
    "| birthYear | string | in YYYY format |\n",
    "| deathYear | string | in YYYY format if applicable, else ‘\\N’ |\n",
    "| primaryProfession | array of strings | the top-3 professions of the person |\n",
    "| knownForTitles | array of tconsts | titles the person is known for |"
   ]
  },
  {
   "cell_type": "code",
   "execution_count": 36,
   "metadata": {},
   "outputs": [],
   "source": [
    "name_basics = pd.read_csv('data/name.basics.tsv.gz', sep='\\t', na_values='\\\\N')"
   ]
  },
  {
   "cell_type": "markdown",
   "metadata": {},
   "source": [
    "## Actors of Popular TV Series\n",
    "\n",
    "Let's find out what actors are likely to make a TV Series popular.\n",
    "\n",
    "First, find top 250 TV series in terms of number of votes and rating:"
   ]
  },
  {
   "cell_type": "code",
   "execution_count": 230,
   "metadata": {},
   "outputs": [],
   "source": [
    "top = title_ratings.merge(\n",
    "    title_basics[title_basics.titleType.isin(['tvSeries'])], on='tconst').nlargest(\n",
    "        100, ['numVotes', 'averageRating'])"
   ]
  },
  {
   "cell_type": "markdown",
   "metadata": {},
   "source": [
    "Find actors who played in them:"
   ]
  },
  {
   "cell_type": "code",
   "execution_count": 231,
   "metadata": {},
   "outputs": [],
   "source": [
    "top_w_actors = top.merge(\n",
    "    title_principals[title_principals.category == 'actor'].merge(\n",
    "        name_basics, on='nconst'), on='tconst')"
   ]
  },
  {
   "cell_type": "markdown",
   "metadata": {},
   "source": [
    "Now, sort those actors by the number of TV Series they appeared in:"
   ]
  },
  {
   "cell_type": "code",
   "execution_count": 232,
   "metadata": {},
   "outputs": [],
   "source": [
    "top_in_top = top_w_actors.groupby(['nconst']).size().reset_index(\n",
    "    name='count').set_index('nconst').nlargest(20, ['count'])"
   ]
  },
  {
   "cell_type": "markdown",
   "metadata": {},
   "source": [
    "Visualize top movies / actors using pyvis library:"
   ]
  },
  {
   "cell_type": "code",
   "execution_count": 235,
   "metadata": {},
   "outputs": [
    {
     "data": {
      "text/html": [
       "\n",
       "        <iframe\n",
       "            width=\"960px\"\n",
       "            height=\"960px\"\n",
       "            src=\"top_movies_actors.html\"\n",
       "            frameborder=\"0\"\n",
       "            allowfullscreen\n",
       "        ></iframe>\n",
       "        "
      ],
      "text/plain": [
       "<IPython.lib.display.IFrame at 0x7fa63435c588>"
      ]
     },
     "execution_count": 235,
     "metadata": {},
     "output_type": "execute_result"
    }
   ],
   "source": [
    "g = pv.network.Network(height='960px', width='960px', notebook=True)\n",
    "\n",
    "for _, row in top_w_actors.merge(top_in_top, on='nconst', how='inner').iterrows():\n",
    "    title='{0} ({1})'.format(row['primaryTitle'], row['averageRating'])\n",
    "    g.add_node(row['tconst'], label=title, title=title, value=1)\n",
    "    g.add_node(row['nconst'], label=row['primaryName'], title=row['primaryName'],\n",
    "               color='lightgreen', value=row['count'])\n",
    "    g.add_edge(row['nconst'], row['tconst'])\n",
    "\n",
    "g.show('top_movies_actors.html')"
   ]
  },
  {
   "cell_type": "code",
   "execution_count": null,
   "metadata": {},
   "outputs": [],
   "source": []
  }
 ],
 "metadata": {
  "kernelspec": {
   "display_name": "Python 3",
   "language": "python",
   "name": "python3"
  },
  "language_info": {
   "codemirror_mode": {
    "name": "ipython",
    "version": 3
   },
   "file_extension": ".py",
   "mimetype": "text/x-python",
   "name": "python",
   "nbconvert_exporter": "python",
   "pygments_lexer": "ipython3",
   "version": "3.6.5"
  }
 },
 "nbformat": 4,
 "nbformat_minor": 2
}
